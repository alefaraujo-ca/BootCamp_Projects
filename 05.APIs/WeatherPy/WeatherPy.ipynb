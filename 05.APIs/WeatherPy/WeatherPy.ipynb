{
 "cells": [
  {
   "cell_type": "markdown",
   "metadata": {},
   "source": [
    "# WeatherPy\n",
    "----\n",
    "\n",
    "#### Note\n",
    "* Instructions have been included for each segment. You do not have to follow them exactly, but they are included to help you think through the steps."
   ]
  },
  {
   "cell_type": "code",
   "execution_count": 1,
   "metadata": {
    "scrolled": true
   },
   "outputs": [],
   "source": [
    "# Dependencies and Setup\n",
    "import matplotlib.pyplot as plt\n",
    "import pandas as pd\n",
    "import numpy as np\n",
    "import requests\n",
    "import time\n",
    "import openweathermapy.core as owm\n",
    "\n",
    "# Import API key\n",
    "from api_keys import api_key\n",
    "\n",
    "# Incorporated citipy to determine city based on latitude and longitude\n",
    "from citipy import citipy\n",
    "\n",
    "# Output File (CSV)\n",
    "output_data_file = \"./output_data/cities.csv\"\n",
    "\n",
    "# Range of latitudes and longitudes\n",
    "lat_range = (-90, 90)\n",
    "lng_range = (-180, 180)"
   ]
  },
  {
   "cell_type": "markdown",
   "metadata": {},
   "source": [
    "## Generate Cities List"
   ]
  },
  {
   "cell_type": "code",
   "execution_count": 2,
   "metadata": {
    "scrolled": true
   },
   "outputs": [
    {
     "data": {
      "text/plain": [
       "647"
      ]
     },
     "execution_count": 2,
     "metadata": {},
     "output_type": "execute_result"
    }
   ],
   "source": [
    "# List for holding lat_lngs and cities\n",
    "lat_lngs = []\n",
    "cities = []\n",
    "\n",
    "# Create a set of random lat and lng combinations\n",
    "lats = np.random.uniform(low=-90.000, high=90.000, size=1500)\n",
    "lngs = np.random.uniform(low=-180.000, high=180.000, size=1500)\n",
    "lat_lngs = zip(lats, lngs)\n",
    "\n",
    "# Identify nearest city for each lat, lng combination\n",
    "for lat_lng in lat_lngs:\n",
    "    city = citipy.nearest_city(lat_lng[0], lat_lng[1]).city_name\n",
    "    \n",
    "    # If the city is unique, then add it to a our cities list\n",
    "    if city not in cities:\n",
    "        cities.append(city)\n",
    "\n",
    "# Print the city count to confirm sufficient count\n",
    "len(cities)"
   ]
  },
  {
   "cell_type": "markdown",
   "metadata": {},
   "source": [
    "### Perform API Calls\n",
    "* Perform a weather check on each city using a series of successive API calls.\n",
    "* Include a print log of each city as it'sbeing processed (with the city number and city name).\n"
   ]
  },
  {
   "cell_type": "code",
   "execution_count": 23,
   "metadata": {
    "scrolled": false
   },
   "outputs": [],
   "source": [
    "# Create a settings dictionary with your API key and preferred units\n",
    "log = open(\"./output_data/log.txt\",\"w\")\n",
    "\n",
    "count = 1\n",
    "weatherData = []\n",
    "\n",
    "for city in cities:\n",
    "   \n",
    "    try:\n",
    "        weatherData.append(owm.get_current(city, **settings))\n",
    "\n",
    "        # Include a print log of each city as it's being processed with the city number and city name.\n",
    "        log.write(f'Processing Record n {count}. City: {city}.\\n')\n",
    "    \n",
    "    except:\n",
    "\n",
    "        log.write(f'Processing Record n {count}. City: {city} not found.\\n')\n",
    "    \n",
    "    count = count + 1\n",
    "\n",
    "    \n",
    "log.close() "
   ]
  },
  {
   "cell_type": "markdown",
   "metadata": {},
   "source": [
    "### Convert Raw Data to DataFrame\n",
    "* Export the city data into a .csv.\n",
    "* Display the DataFrame"
   ]
  },
  {
   "cell_type": "code",
   "execution_count": 5,
   "metadata": {},
   "outputs": [
    {
     "data": {
      "text/html": [
       "<div>\n",
       "<style scoped>\n",
       "    .dataframe tbody tr th:only-of-type {\n",
       "        vertical-align: middle;\n",
       "    }\n",
       "\n",
       "    .dataframe tbody tr th {\n",
       "        vertical-align: top;\n",
       "    }\n",
       "\n",
       "    .dataframe thead th {\n",
       "        text-align: right;\n",
       "    }\n",
       "</style>\n",
       "<table border=\"1\" class=\"dataframe\">\n",
       "  <thead>\n",
       "    <tr style=\"text-align: right;\">\n",
       "      <th></th>\n",
       "      <th>coord</th>\n",
       "      <th>weather</th>\n",
       "      <th>base</th>\n",
       "      <th>main</th>\n",
       "      <th>wind</th>\n",
       "      <th>rain</th>\n",
       "      <th>clouds</th>\n",
       "      <th>dt</th>\n",
       "      <th>sys</th>\n",
       "      <th>timezone</th>\n",
       "      <th>id</th>\n",
       "      <th>name</th>\n",
       "      <th>cod</th>\n",
       "      <th>visibility</th>\n",
       "      <th>snow</th>\n",
       "    </tr>\n",
       "  </thead>\n",
       "  <tbody>\n",
       "    <tr>\n",
       "      <td>0</td>\n",
       "      <td>{'lon': -54.38, 'lat': 4.27}</td>\n",
       "      <td>[{'id': 500, 'main': 'Rain', 'description': 'l...</td>\n",
       "      <td>model</td>\n",
       "      <td>{'temp': 23.42, 'pressure': 1009, 'humidity': ...</td>\n",
       "      <td>{'speed': 1.01, 'deg': 37}</td>\n",
       "      <td>{'3h': 2.19}</td>\n",
       "      <td>{'all': 59}</td>\n",
       "      <td>1574377730</td>\n",
       "      <td>{'country': 'GF', 'sunrise': 1574328369, 'suns...</td>\n",
       "      <td>-10800</td>\n",
       "      <td>3381538</td>\n",
       "      <td>Grand-Santi</td>\n",
       "      <td>200</td>\n",
       "      <td>NaN</td>\n",
       "      <td>NaN</td>\n",
       "    </tr>\n",
       "    <tr>\n",
       "      <td>1</td>\n",
       "      <td>{'lon': -60.28, 'lat': -38.38}</td>\n",
       "      <td>[{'id': 500, 'main': 'Rain', 'description': 'l...</td>\n",
       "      <td>model</td>\n",
       "      <td>{'temp': 12.97, 'pressure': 1013, 'humidity': ...</td>\n",
       "      <td>{'speed': 5.2, 'deg': 182}</td>\n",
       "      <td>{'3h': 0.56}</td>\n",
       "      <td>{'all': 66}</td>\n",
       "      <td>1574378283</td>\n",
       "      <td>{'country': 'AR', 'sunrise': 1574325348, 'suns...</td>\n",
       "      <td>-10800</td>\n",
       "      <td>3833859</td>\n",
       "      <td>Tres Arroyos</td>\n",
       "      <td>200</td>\n",
       "      <td>NaN</td>\n",
       "      <td>NaN</td>\n",
       "    </tr>\n",
       "    <tr>\n",
       "      <td>2</td>\n",
       "      <td>{'lon': 50.28, 'lat': -14.9}</td>\n",
       "      <td>[{'id': 800, 'main': 'Clear', 'description': '...</td>\n",
       "      <td>model</td>\n",
       "      <td>{'temp': 26.77, 'pressure': 1012, 'humidity': ...</td>\n",
       "      <td>{'speed': 4.47, 'deg': 32}</td>\n",
       "      <td>NaN</td>\n",
       "      <td>{'all': 0}</td>\n",
       "      <td>1574378283</td>\n",
       "      <td>{'country': 'MG', 'sunrise': 1574387946, 'suns...</td>\n",
       "      <td>10800</td>\n",
       "      <td>1071296</td>\n",
       "      <td>Antalaha</td>\n",
       "      <td>200</td>\n",
       "      <td>NaN</td>\n",
       "      <td>NaN</td>\n",
       "    </tr>\n",
       "    <tr>\n",
       "      <td>3</td>\n",
       "      <td>{'lon': 96.39, 'lat': 61.68}</td>\n",
       "      <td>[{'id': 804, 'main': 'Clouds', 'description': ...</td>\n",
       "      <td>model</td>\n",
       "      <td>{'temp': -24.94, 'pressure': 1022, 'humidity':...</td>\n",
       "      <td>{'speed': 0.99, 'deg': 222}</td>\n",
       "      <td>NaN</td>\n",
       "      <td>{'all': 96}</td>\n",
       "      <td>1574378283</td>\n",
       "      <td>{'country': 'RU', 'sunrise': 1574388042, 'suns...</td>\n",
       "      <td>25200</td>\n",
       "      <td>1510689</td>\n",
       "      <td>Baykit</td>\n",
       "      <td>200</td>\n",
       "      <td>NaN</td>\n",
       "      <td>NaN</td>\n",
       "    </tr>\n",
       "    <tr>\n",
       "      <td>4</td>\n",
       "      <td>{'lon': 149.07, 'lat': -23.58}</td>\n",
       "      <td>[{'id': 802, 'main': 'Clouds', 'description': ...</td>\n",
       "      <td>model</td>\n",
       "      <td>{'temp': 26.55, 'pressure': 1017, 'humidity': ...</td>\n",
       "      <td>{'speed': 4.34, 'deg': 69}</td>\n",
       "      <td>NaN</td>\n",
       "      <td>{'all': 40}</td>\n",
       "      <td>1574378283</td>\n",
       "      <td>{'country': 'AU', 'sunrise': 1574363363, 'suns...</td>\n",
       "      <td>36000</td>\n",
       "      <td>2175403</td>\n",
       "      <td>Bluff</td>\n",
       "      <td>200</td>\n",
       "      <td>NaN</td>\n",
       "      <td>NaN</td>\n",
       "    </tr>\n",
       "  </tbody>\n",
       "</table>\n",
       "</div>"
      ],
      "text/plain": [
       "                            coord  \\\n",
       "0    {'lon': -54.38, 'lat': 4.27}   \n",
       "1  {'lon': -60.28, 'lat': -38.38}   \n",
       "2    {'lon': 50.28, 'lat': -14.9}   \n",
       "3    {'lon': 96.39, 'lat': 61.68}   \n",
       "4  {'lon': 149.07, 'lat': -23.58}   \n",
       "\n",
       "                                             weather   base  \\\n",
       "0  [{'id': 500, 'main': 'Rain', 'description': 'l...  model   \n",
       "1  [{'id': 500, 'main': 'Rain', 'description': 'l...  model   \n",
       "2  [{'id': 800, 'main': 'Clear', 'description': '...  model   \n",
       "3  [{'id': 804, 'main': 'Clouds', 'description': ...  model   \n",
       "4  [{'id': 802, 'main': 'Clouds', 'description': ...  model   \n",
       "\n",
       "                                                main  \\\n",
       "0  {'temp': 23.42, 'pressure': 1009, 'humidity': ...   \n",
       "1  {'temp': 12.97, 'pressure': 1013, 'humidity': ...   \n",
       "2  {'temp': 26.77, 'pressure': 1012, 'humidity': ...   \n",
       "3  {'temp': -24.94, 'pressure': 1022, 'humidity':...   \n",
       "4  {'temp': 26.55, 'pressure': 1017, 'humidity': ...   \n",
       "\n",
       "                          wind          rain       clouds          dt  \\\n",
       "0   {'speed': 1.01, 'deg': 37}  {'3h': 2.19}  {'all': 59}  1574377730   \n",
       "1   {'speed': 5.2, 'deg': 182}  {'3h': 0.56}  {'all': 66}  1574378283   \n",
       "2   {'speed': 4.47, 'deg': 32}           NaN   {'all': 0}  1574378283   \n",
       "3  {'speed': 0.99, 'deg': 222}           NaN  {'all': 96}  1574378283   \n",
       "4   {'speed': 4.34, 'deg': 69}           NaN  {'all': 40}  1574378283   \n",
       "\n",
       "                                                 sys  timezone       id  \\\n",
       "0  {'country': 'GF', 'sunrise': 1574328369, 'suns...    -10800  3381538   \n",
       "1  {'country': 'AR', 'sunrise': 1574325348, 'suns...    -10800  3833859   \n",
       "2  {'country': 'MG', 'sunrise': 1574387946, 'suns...     10800  1071296   \n",
       "3  {'country': 'RU', 'sunrise': 1574388042, 'suns...     25200  1510689   \n",
       "4  {'country': 'AU', 'sunrise': 1574363363, 'suns...     36000  2175403   \n",
       "\n",
       "           name  cod  visibility snow  \n",
       "0   Grand-Santi  200         NaN  NaN  \n",
       "1  Tres Arroyos  200         NaN  NaN  \n",
       "2      Antalaha  200         NaN  NaN  \n",
       "3        Baykit  200         NaN  NaN  \n",
       "4         Bluff  200         NaN  NaN  "
      ]
     },
     "execution_count": 5,
     "metadata": {},
     "output_type": "execute_result"
    }
   ],
   "source": [
    "df_weatherData = pd.DataFrame(weatherData) \n",
    "df_weatherData.head()"
   ]
  },
  {
   "cell_type": "code",
   "execution_count": 6,
   "metadata": {},
   "outputs": [
    {
     "data": {
      "text/plain": [
       "coord         578\n",
       "weather       578\n",
       "base          578\n",
       "main          578\n",
       "wind          578\n",
       "rain           77\n",
       "clouds        578\n",
       "dt            578\n",
       "sys           578\n",
       "timezone      578\n",
       "id            578\n",
       "name          578\n",
       "cod           578\n",
       "visibility    254\n",
       "snow           19\n",
       "dtype: int64"
      ]
     },
     "execution_count": 6,
     "metadata": {},
     "output_type": "execute_result"
    }
   ],
   "source": [
    "df_weatherData.count()"
   ]
  },
  {
   "cell_type": "code",
   "execution_count": 14,
   "metadata": {},
   "outputs": [
    {
     "data": {
      "text/html": [
       "<div>\n",
       "<style scoped>\n",
       "    .dataframe tbody tr th:only-of-type {\n",
       "        vertical-align: middle;\n",
       "    }\n",
       "\n",
       "    .dataframe tbody tr th {\n",
       "        vertical-align: top;\n",
       "    }\n",
       "\n",
       "    .dataframe thead th {\n",
       "        text-align: right;\n",
       "    }\n",
       "</style>\n",
       "<table border=\"1\" class=\"dataframe\">\n",
       "  <thead>\n",
       "    <tr style=\"text-align: right;\">\n",
       "      <th></th>\n",
       "      <th>City</th>\n",
       "      <th>Cloudiness</th>\n",
       "      <th>Country</th>\n",
       "      <th>Date</th>\n",
       "      <th>Humidity</th>\n",
       "      <th>Lat</th>\n",
       "      <th>Lng</th>\n",
       "      <th>Max Temp</th>\n",
       "      <th>Wind Speed</th>\n",
       "    </tr>\n",
       "  </thead>\n",
       "  <tbody>\n",
       "    <tr>\n",
       "      <td>0</td>\n",
       "      <td>Grand-Santi</td>\n",
       "      <td>59</td>\n",
       "      <td>GF</td>\n",
       "      <td>1574377730</td>\n",
       "      <td>94</td>\n",
       "      <td>4.27</td>\n",
       "      <td>-54.38</td>\n",
       "      <td>23.42</td>\n",
       "      <td>1.01</td>\n",
       "    </tr>\n",
       "    <tr>\n",
       "      <td>1</td>\n",
       "      <td>Tres Arroyos</td>\n",
       "      <td>66</td>\n",
       "      <td>AR</td>\n",
       "      <td>1574378283</td>\n",
       "      <td>85</td>\n",
       "      <td>-38.38</td>\n",
       "      <td>-60.28</td>\n",
       "      <td>12.97</td>\n",
       "      <td>5.20</td>\n",
       "    </tr>\n",
       "    <tr>\n",
       "      <td>2</td>\n",
       "      <td>Antalaha</td>\n",
       "      <td>0</td>\n",
       "      <td>MG</td>\n",
       "      <td>1574378283</td>\n",
       "      <td>82</td>\n",
       "      <td>-14.90</td>\n",
       "      <td>50.28</td>\n",
       "      <td>26.77</td>\n",
       "      <td>4.47</td>\n",
       "    </tr>\n",
       "    <tr>\n",
       "      <td>3</td>\n",
       "      <td>Baykit</td>\n",
       "      <td>96</td>\n",
       "      <td>RU</td>\n",
       "      <td>1574378283</td>\n",
       "      <td>97</td>\n",
       "      <td>61.68</td>\n",
       "      <td>96.39</td>\n",
       "      <td>-24.94</td>\n",
       "      <td>0.99</td>\n",
       "    </tr>\n",
       "    <tr>\n",
       "      <td>4</td>\n",
       "      <td>Bluff</td>\n",
       "      <td>40</td>\n",
       "      <td>AU</td>\n",
       "      <td>1574378283</td>\n",
       "      <td>45</td>\n",
       "      <td>-23.58</td>\n",
       "      <td>149.07</td>\n",
       "      <td>26.55</td>\n",
       "      <td>4.34</td>\n",
       "    </tr>\n",
       "  </tbody>\n",
       "</table>\n",
       "</div>"
      ],
      "text/plain": [
       "           City  Cloudiness Country        Date  Humidity    Lat     Lng  \\\n",
       "0   Grand-Santi          59      GF  1574377730        94   4.27  -54.38   \n",
       "1  Tres Arroyos          66      AR  1574378283        85 -38.38  -60.28   \n",
       "2      Antalaha           0      MG  1574378283        82 -14.90   50.28   \n",
       "3        Baykit          96      RU  1574378283        97  61.68   96.39   \n",
       "4         Bluff          40      AU  1574378283        45 -23.58  149.07   \n",
       "\n",
       "   Max Temp  Wind Speed  \n",
       "0     23.42        1.01  \n",
       "1     12.97        5.20  \n",
       "2     26.77        4.47  \n",
       "3    -24.94        0.99  \n",
       "4     26.55        4.34  "
      ]
     },
     "execution_count": 14,
     "metadata": {},
     "output_type": "execute_result"
    }
   ],
   "source": [
    "data_fields = []\n",
    "for index, data in df_weatherData.iterrows():\n",
    "    fields = {\n",
    "        'City': data['name'],\n",
    "        'Cloudiness' : data['clouds']['all'],\n",
    "        'Country' : data['sys']['country'],\n",
    "        'Date': data['dt'],\n",
    "        'Humidity': data['main']['humidity'],\n",
    "        'Lat': data['coord']['lat'],\n",
    "        'Lng': data['coord']['lon'],\n",
    "        'Max Temp': data['main']['temp_max'],\n",
    "        'Wind Speed': data['wind']['speed']\n",
    "    }\n",
    "    \n",
    "    data_fields.append(fields)\n",
    "\n",
    "df_weather = pd.DataFrame(data_fields)\n",
    "df_weather.head()"
   ]
  },
  {
   "cell_type": "code",
   "execution_count": 24,
   "metadata": {},
   "outputs": [],
   "source": [
    "df_weather.to_csv(output_data_file)"
   ]
  },
  {
   "cell_type": "markdown",
   "metadata": {},
   "source": [
    "### Plotting the Data\n",
    "* Use proper labeling of the plots using plot titles (including date of analysis) and axes labels.\n",
    "* Save the plotted figures as .pngs."
   ]
  },
  {
   "cell_type": "markdown",
   "metadata": {},
   "source": [
    "#### Latitude vs. Temperature Plot"
   ]
  },
  {
   "cell_type": "code",
   "execution_count": 27,
   "metadata": {},
   "outputs": [
    {
     "data": {
      "image/png": "[encoded data removed]",
      "text/plain": [
       "<Figure size 432x288 with 1 Axes>"
      ]
     },
     "metadata": {
      "needs_background": "light"
     },
     "output_type": "display_data"
    }
   ],
   "source": [
    "# Build a scatter plot for each data type\n",
    "plt.scatter(df_weather[\"Lat\"], df_weather[\"Max Temp\"], marker=\"o\")\n",
    "\n",
    "# Incorporate the other graph properties\n",
    "plt.title(\"Latitude vs. Temperature in World Cities\")\n",
    "plt.ylabel(\"Max Temperature (Celsius)\")\n",
    "plt.xlabel(\"Latitude\")\n",
    "plt.grid(True)\n",
    "\n",
    "# Save the figure\n",
    "plt.savefig(\"./output_data/TemperatureInWorldCities.png\")\n",
    "\n",
    "# Show plot\n",
    "plt.show()"
   ]
  },
  {
   "cell_type": "markdown",
   "metadata": {},
   "source": [
    "#### Latitude vs. Humidity Plot"
   ]
  },
  {
   "cell_type": "code",
   "execution_count": 25,
   "metadata": {},
   "outputs": [
    {
     "data": {
      "image/png": "[encoded data removed]",
      "text/plain": [
       "<Figure size 432x288 with 1 Axes>"
      ]
     },
     "metadata": {
      "needs_background": "light"
     },
     "output_type": "display_data"
    }
   ],
   "source": [
    "# Build a scatter plot for each data type\n",
    "plt.scatter(df_weather[\"Lat\"], df_weather[\"Humidity\"], marker=\"o\")\n",
    "\n",
    "# Incorporate the other graph properties\n",
    "plt.title(\"Latitude vs. Humidity in World Cities\")\n",
    "plt.ylabel(\"Humidity (%)\")\n",
    "plt.xlabel(\"Latitude\")\n",
    "plt.grid(True)\n",
    "\n",
    "# Save the figure\n",
    "plt.savefig(\"./output_data/HumidityInWorldCities.png\")\n",
    "\n",
    "# Show plot\n",
    "plt.show()"
   ]
  },
  {
   "cell_type": "markdown",
   "metadata": {},
   "source": [
    "#### Latitude vs. Cloudiness Plot"
   ]
  },
  {
   "cell_type": "code",
   "execution_count": 26,
   "metadata": {},
   "outputs": [
    {
     "data": {
      "image/png": "[encoded data removed]",
      "text/plain": [
       "<Figure size 432x288 with 1 Axes>"
      ]
     },
     "metadata": {
      "needs_background": "light"
     },
     "output_type": "display_data"
    }
   ],
   "source": [
    "# Build a scatter plot for each data type\n",
    "plt.scatter(df_weather[\"Lat\"], df_weather[\"Cloudiness\"], marker=\"o\")\n",
    "\n",
    "# Incorporate the other graph properties\n",
    "plt.title(\"Latitude vs. Cloudiness in World Cities\")\n",
    "plt.ylabel(\"Cloudiness (%)\")\n",
    "plt.xlabel(\"Latitude\")\n",
    "plt.grid(True)\n",
    "\n",
    "# Save the figure\n",
    "plt.savefig(\"./output_data/CloudinessInWorldCities.png\")\n",
    "\n",
    "# Show plot\n",
    "plt.show()"
   ]
  },
  {
   "cell_type": "markdown",
   "metadata": {},
   "source": [
    "#### Latitude vs. Wind Speed Plot"
   ]
  },
  {
   "cell_type": "code",
   "execution_count": 28,
   "metadata": {},
   "outputs": [
    {
     "data": {
      "image/png": "[encoded data removed]",
      "text/plain": [
       "<Figure size 432x288 with 1 Axes>"
      ]
     },
     "metadata": {
      "needs_background": "light"
     },
     "output_type": "display_data"
    }
   ],
   "source": [
    "# Build a scatter plot for each data type\n",
    "plt.scatter(df_weather[\"Lat\"], df_weather[\"Wind Speed\"], marker=\"o\")\n",
    "\n",
    "# Incorporate the other graph properties\n",
    "plt.title(\"Latitude vs. Wind Speed in World Cities\")\n",
    "plt.ylabel(\"Wind Speed (mph)\")\n",
    "plt.xlabel(\"Latitude\")\n",
    "plt.grid(True)\n",
    "\n",
    "# Save the figure\n",
    "plt.savefig(\"./output_data/WindSpeedInWorldCities.png\")\n",
    "\n",
    "# Show plot\n",
    "plt.show()"
   ]
  },
  {
   "cell_type": "markdown",
   "metadata": {},
   "source": [
    "# Observations\n",
    "\n",
    "- Is it possible to observe an outlier when analyzing Wind Speed, for a city in south hemisphere called San Juan, Argentina;\n",
    "- Clearly there is a relationship between latitude and temperature, as temperatures are typically warmer approaching the Equator and cooler approaching the Poles;\n",
    "- Humidity appears to be mostly regular across latitudes, though with an absence of lower humidity values near the equator and Arctic. "
   ]
  },
  {
   "cell_type": "code",
   "execution_count": null,
   "metadata": {},
   "outputs": [],
   "source": []
  }
 ],
 "metadata": {
  "anaconda-cloud": {},
  "kernel_info": {
   "name": "python3"
  },
  "kernelspec": {
   "display_name": "Python 3",
   "language": "python",
   "name": "python3"
  },
  "language_info": {
   "codemirror_mode": {
    "name": "ipython",
    "version": 3
   },
   "file_extension": ".py",
   "mimetype": "text/x-python",
   "name": "python",
   "nbconvert_exporter": "python",
   "pygments_lexer": "ipython3",
   "version": "3.7.4"
  },
  "nteract": {
   "version": "0.12.3"
  }
 },
 "nbformat": 4,
 "nbformat_minor": 2
}
