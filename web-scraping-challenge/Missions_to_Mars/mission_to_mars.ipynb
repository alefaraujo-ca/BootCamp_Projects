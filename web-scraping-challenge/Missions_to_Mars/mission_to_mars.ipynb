{
 "cells": [
  {
   "cell_type": "code",
   "execution_count": 32,
   "metadata": {},
   "outputs": [],
   "source": [
    "from bs4 import BeautifulSoup as bs\n",
    "from splinter import Browser\n",
    "import time\n",
    "import pandas as pd"
   ]
  },
  {
   "cell_type": "code",
   "execution_count": 33,
   "metadata": {},
   "outputs": [],
   "source": [
    "executable_path={'executable_path':'chromedriver.exe'}\n",
    "\n",
    "browser = Browser('chrome', **executable_path, headless=False)"
   ]
  },
  {
   "cell_type": "markdown",
   "metadata": {},
   "source": [
    "# NASA Mars News"
   ]
  },
  {
   "cell_type": "code",
   "execution_count": 34,
   "metadata": {},
   "outputs": [],
   "source": [
    "url = 'https://mars.nasa.gov/news/?page=0&per_page=40&order=publish_date+desc%2Ccreated_at+desc&search=&category=19%2C165%2C184%2C204&blank_scope=Latest'\n",
    "browser.visit(url)"
   ]
  },
  {
   "cell_type": "code",
   "execution_count": 35,
   "metadata": {},
   "outputs": [],
   "source": [
    "html = browser.html\n",
    "soup = bs(html, 'lxml')"
   ]
  },
  {
   "cell_type": "code",
   "execution_count": 36,
   "metadata": {},
   "outputs": [],
   "source": [
    "news_title = soup.find('div', class_=\"content_title\").text.strip()"
   ]
  },
  {
   "cell_type": "code",
   "execution_count": 37,
   "metadata": {},
   "outputs": [
    {
     "data": {
      "text/plain": [
       "\"NASA's Mars 2020 Rover Closer to Getting Its Name\""
      ]
     },
     "execution_count": 37,
     "metadata": {},
     "output_type": "execute_result"
    }
   ],
   "source": [
    "news_title"
   ]
  },
  {
   "cell_type": "code",
   "execution_count": 38,
   "metadata": {},
   "outputs": [],
   "source": [
    "news_p = soup.find('div', class_=\"article_teaser_body\").text.strip()"
   ]
  },
  {
   "cell_type": "code",
   "execution_count": 39,
   "metadata": {},
   "outputs": [
    {
     "name": "stdout",
     "output_type": "stream",
     "text": [
      "155 students from across the U.S. have been chosen as semifinalists in NASA's essay contest to name the Mars 2020 rover, and see it launch from Cape Canaveral this July.\n"
     ]
    }
   ],
   "source": [
    "print(news_p)"
   ]
  },
  {
   "cell_type": "code",
   "execution_count": 40,
   "metadata": {},
   "outputs": [
    {
     "data": {
      "text/plain": [
       "'\\ntable=soup.find(\\'div\\', class_=\\'grid_layout\\')\\nrows=table.find_all(\\'li\\')\\ncells=row.find(\\'div\\', class_=\"list_text\")\\nnews=[]\\ncolumns=[\\'date\\', \\'title\\', \\'content\\']\\n\\nfor row in rows[0:]:\\n    news_dict={}\\n    cells=row.find(\\'div\\', class_=\"list_text\")\\n\\n    for i, cell in enumerate(cells):\\n        #print(i, cell.text)\\n        #print(i, cell.text.strip())\\n        # The strip() method returns a copy of the string with both leading and trailing characters removed \\n        news_dict[columns[i]]=cell.text.strip()\\n        if i==2:\\n            news.append(news_dict)\\n\\ndf_news_nasa=pd.DataFrame(news, columns=columns)\\n#df_news_nasa\\n'"
      ]
     },
     "execution_count": 40,
     "metadata": {},
     "output_type": "execute_result"
    }
   ],
   "source": [
    "'''\n",
    "table=soup.find('div', class_='grid_layout')\n",
    "rows=table.find_all('li')\n",
    "cells=row.find('div', class_=\"list_text\")\n",
    "news=[]\n",
    "columns=['date', 'title', 'content']\n",
    "\n",
    "for row in rows[0:]:\n",
    "    news_dict={}\n",
    "    cells=row.find('div', class_=\"list_text\")\n",
    "\n",
    "    for i, cell in enumerate(cells):\n",
    "        #print(i, cell.text)\n",
    "        #print(i, cell.text.strip())\n",
    "        # The strip() method returns a copy of the string with both leading and trailing characters removed \n",
    "        news_dict[columns[i]]=cell.text.strip()\n",
    "        if i==2:\n",
    "            news.append(news_dict)\n",
    "\n",
    "df_news_nasa=pd.DataFrame(news, columns=columns)\n",
    "#df_news_nasa\n",
    "'''"
   ]
  },
  {
   "cell_type": "markdown",
   "metadata": {},
   "source": [
    "# JPL Mars Space Images - Featured Image"
   ]
  },
  {
   "cell_type": "code",
   "execution_count": 41,
   "metadata": {},
   "outputs": [],
   "source": [
    "url='https://www.jpl.nasa.gov/spaceimages/?search=&category=Mars'\n",
    "browser.visit(url)\n",
    "html = browser.html\n",
    "soup = bs(html, 'lxml')"
   ]
  },
  {
   "cell_type": "code",
   "execution_count": 42,
   "metadata": {},
   "outputs": [
    {
     "name": "stdout",
     "output_type": "stream",
     "text": [
      "/spaceimages/images/wallpaper/PIA23634-640x350.jpg\n"
     ]
    }
   ],
   "source": [
    "image = soup.find(\"img\", class_=\"thumb\")[\"src\"]\n",
    "print(image)"
   ]
  },
  {
   "cell_type": "markdown",
   "metadata": {},
   "source": [
    "# Mars Weather"
   ]
  },
  {
   "cell_type": "code",
   "execution_count": 43,
   "metadata": {},
   "outputs": [],
   "source": [
    "url = 'https://twitter.com/marswxreport?lang=en'\n",
    "browser.visit(url)\n",
    "html = browser.html\n",
    "soup = bs(html,'lxml')"
   ]
  },
  {
   "cell_type": "code",
   "execution_count": 44,
   "metadata": {},
   "outputs": [
    {
     "name": "stdout",
     "output_type": "stream",
     "text": [
      "InSight sol 401 (2020-01-12) low -100.2ºC (-148.4ºF) high -17.0ºC (1.5ºF)\n",
      "pressure at 6.40 hPa\n"
     ]
    }
   ],
   "source": [
    "mars_weather = soup.find('p', class_='TweetTextSize TweetTextSize--normal js-tweet-text tweet-text').text\n",
    "print(mars_weather)"
   ]
  },
  {
   "cell_type": "markdown",
   "metadata": {},
   "source": [
    "# Mars Facts"
   ]
  },
  {
   "cell_type": "code",
   "execution_count": null,
   "metadata": {
    "scrolled": true
   },
   "outputs": [],
   "source": [
    "# Scrape the table of Mars facts\n",
    "url = 'https://space-facts.com/mars/'\n",
    "tables = pd.read_html(url)\n",
    "df_profile = tables[0]\n",
    "df_profile.columns = ['Aspect', 'Value']\n",
    "df_profile.set_index('Aspect', inplace=True)"
   ]
  },
  {
   "cell_type": "code",
   "execution_count": null,
   "metadata": {},
   "outputs": [],
   "source": [
    "# Convert to HTML table string\n",
    "df_profile.to_html('mars_profile.html')\n",
    "dict_profile = df_profile.to_dict()"
   ]
  },
  {
   "cell_type": "markdown",
   "metadata": {},
   "source": [
    "# Mars Hemispheres"
   ]
  },
  {
   "cell_type": "code",
   "execution_count": null,
   "metadata": {},
   "outputs": [],
   "source": [
    "url = 'https://astrogeology.usgs.gov/search/results?q=hemisphere+enhanced&k1=target&v1=Mars'\n",
    "browser.visit(url)\n",
    "html = browser.html\n",
    "soup = bs(html, 'lxml')"
   ]
  },
  {
   "cell_type": "code",
   "execution_count": null,
   "metadata": {},
   "outputs": [],
   "source": [
    "mars_hemispheres = []\n",
    "links = soup.find_all('h3')\n",
    "\n",
    "for link in links:\n",
    "    #print(hemi.text)\n",
    "    mars_hemispheres.append(link.text)\n",
    "\n",
    "mars_hemispheres"
   ]
  },
  {
   "cell_type": "code",
   "execution_count": null,
   "metadata": {},
   "outputs": [],
   "source": [
    "hemisphere_image_urls = []\n",
    "data = {}\n",
    "\n",
    "for link in mars_hemispheres:\n",
    "    \n",
    "    data['title'] = link\n",
    "\n",
    "    browser.click_link_by_partial_text(link)\n",
    "    data['image_url'] = browser.links.find_by_partial_text('Sample')['href']\n",
    "\n",
    "    hemisphere_image_urls.append(data)\n",
    "    \n",
    "    browser.back()\n",
    "    \n",
    "print(hemisphere_image_urls)"
   ]
  },
  {
   "cell_type": "code",
   "execution_count": null,
   "metadata": {},
   "outputs": [],
   "source": []
  }
 ],
 "metadata": {
  "kernelspec": {
   "display_name": "Python 3",
   "language": "python",
   "name": "python3"
  },
  "language_info": {
   "codemirror_mode": {
    "name": "ipython",
    "version": 3
   },
   "file_extension": ".py",
   "mimetype": "text/x-python",
   "name": "python",
   "nbconvert_exporter": "python",
   "pygments_lexer": "ipython3",
   "version": "3.7.4"
  }
 },
 "nbformat": 4,
 "nbformat_minor": 2
}
